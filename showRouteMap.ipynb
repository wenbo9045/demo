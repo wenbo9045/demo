{
 "cells": [
  {
   "cell_type": "code",
   "execution_count": 1,
   "metadata": {},
   "outputs": [
    {
     "name": "stdout",
     "output_type": "stream",
     "text": [
      "Using matplotlib backend: Qt5Agg\n"
     ]
    }
   ],
   "source": [
    "import numpy as np\n",
    "import matplotlib.pyplot as plt\n",
    "# %matplotlib inline\n",
    "%matplotlib\n",
    "from mpl_toolkits.mplot3d import Axes3D\n",
    "\n",
    "import json"
   ]
  },
  {
   "cell_type": "code",
   "execution_count": 2,
   "metadata": {},
   "outputs": [
    {
     "name": "stdout",
     "output_type": "stream",
     "text": [
      "Using matplotlib backend: Qt5Agg\n",
      "1\n",
      "2\n",
      "3\n",
      "4\n",
      "5\n",
      "6\n",
      "7\n",
      "8\n",
      "9\n",
      "10\n",
      "11\n",
      "12\n",
      "13\n",
      "14\n",
      "15\n",
      "16\n",
      "17\n",
      "18\n",
      "19\n",
      "20\n",
      "21\n",
      "22\n",
      "23\n",
      "24\n"
     ]
    }
   ],
   "source": [
    "# routemap现在仿真中依然使用，可以用这个脚本查看其形状\n",
    "mapfile = \"331/dataPkMap/xp_parkinglot.json\"\n",
    "\n",
    "with open(mapfile) as f:\n",
    "  map = json.load(f)\n",
    "# print(data)\n",
    "\n",
    "%matplotlib\n",
    "fig = plt.figure()\n",
    "ax = fig.add_subplot(111, projection='3d')\n",
    "\n",
    "class Joint:\n",
    "  \n",
    "    def __init__(self, location, id='', laneids=[]):\n",
    "        self.id = id\n",
    "        self.location = location\n",
    "        self.laneids = laneids\n",
    "        \n",
    "joints = {}\n",
    "for joint in map['joint']:\n",
    "    laneids = []\n",
    "    for laneid in joint['laneIDs']:\n",
    "        laneids.append(laneid)\n",
    "    tempjoint = Joint(id=joint['id'], location=joint['location'], laneids=laneids)\n",
    "#     ax.scatter(tempjoint.location['x'], tempjoint.location['y'], tempjoint.location['z'])\n",
    "    joints[joint['id']] = tempjoint\n",
    "\n",
    "\n",
    "class Lane:\n",
    "    \n",
    "    def __init__(self, id, xs, ys, zs, fromjoint, gojoint):\n",
    "        self.id = id\n",
    "        self.xs = xs\n",
    "        self.ys = ys\n",
    "        self.zs = zs\n",
    "        self.fromjoint = fromjoint\n",
    "        self.gojoint = gojoint\n",
    "        \n",
    "lanes = {}\n",
    "for lane in map['lane']:\n",
    "    waypoints = []\n",
    "    xs = []\n",
    "    ys = []\n",
    "    zs = []\n",
    "    for x in lane['waypoints']['x']:\n",
    "        xs.append(x)\n",
    "    for y in lane['waypoints']['y']:\n",
    "        ys.append(y)\n",
    "    for z in lane['waypoints']['z']:\n",
    "        zs.append(z)\n",
    "    xs = np.array(xs)\n",
    "    ys = np.array(ys)\n",
    "    zs = np.array(zs)\n",
    "#     print(lane['id'])\n",
    "#     ax.plot(xs, ys, zs)\n",
    "    gojoint = lane['goJointID']\n",
    "    fromjoint = lane['fromJointID']\n",
    "    templane = Lane(lane['id'], xs, ys, zs, fromjoint, gojoint)\n",
    "    lanes[lane['id']] = templane\n",
    "\n",
    "joints_show = []\n",
    "for joint in joints:\n",
    "    if joint in joints_show:\n",
    "        ax.scatter(joints[joint].location['x'], joints[joint].location['y'], joints[joint].location['z'], marker='o', c='red')\n",
    "    else:\n",
    "        ax.scatter(joints[joint].location['x'], joints[joint].location['y'], joints[joint].location['z'], marker='x', c='black')\n",
    "\n",
    "lanes_show = []\n",
    "for i in range(len(joints_show) - 1):\n",
    "    jointid = joints_show[i]\n",
    "    print(\"from jointid: \", jointid)\n",
    "    for laneid in joints[jointid].laneids:\n",
    "        if lanes[laneid].gojoint == joints_show[i+1]:\n",
    "            lanes_show.append(laneid)\n",
    "lanes_show = []\n",
    "for lane in lanes:\n",
    "    print(lane)\n",
    "    \n",
    "    if lane in lanes_show:\n",
    "        ax.plot(lanes[lane].xs, lanes[lane].ys, lanes[lane].zs, c='red', linewidth=3)\n",
    "    else:\n",
    "        ax.plot(lanes[lane].xs, lanes[lane].ys, lanes[lane].zs, c='red')\n",
    "\n"
   ]
  },
  {
   "cell_type": "code",
   "execution_count": 37,
   "metadata": {},
   "outputs": [
    {
     "data": {
      "text/plain": [
       "[]"
      ]
     },
     "execution_count": 37,
     "metadata": {},
     "output_type": "execute_result"
    }
   ],
   "source": [
    "lanes_show"
   ]
  }
 ],
 "metadata": {
  "kernelspec": {
   "display_name": "Python 3",
   "language": "python",
   "name": "python3"
  },
  "language_info": {
   "codemirror_mode": {
    "name": "ipython",
    "version": 3
   },
   "file_extension": ".py",
   "mimetype": "text/x-python",
   "name": "python",
   "nbconvert_exporter": "python",
   "pygments_lexer": "ipython3",
   "version": "3.7.4"
  }
 },
 "nbformat": 4,
 "nbformat_minor": 4
}
